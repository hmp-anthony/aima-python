{
 "cells": [
  {
   "cell_type": "code",
   "execution_count": 9,
   "id": "6fa86ef3-f46e-48fb-ad79-18c359742eb2",
   "metadata": {},
   "outputs": [
    {
     "name": "stdout",
     "output_type": "stream",
     "text": [
      "(<B>, 0)\n",
      "['A', 'S', 'R', 'P', 'B']\n"
     ]
    }
   ],
   "source": [
    "from search_2 import *\n",
    "import math\n",
    "\n",
    "def h(n):\n",
    "    return 0\n",
    "\n",
    "def recursive_best_first_search(problem):\n",
    "    return RBFS(problem, Node(problem.initial), math.inf)\n",
    "\n",
    "def RBFS(problem, node, f_limit):\n",
    "    if problem.is_goal(node.state):\n",
    "        return node, 0\n",
    "    successors = []\n",
    "    for child in expand(problem, node):\n",
    "        successors.append(child)\n",
    "    if not successors:\n",
    "        return failure, math.inf\n",
    "    for s in successors:\n",
    "        s.f = max(g(s) + h(s), g(node) + h(node))\n",
    "    while True:\n",
    "        successors.sort(key = lambda x: x.f)\n",
    "        best = successors[0]\n",
    "        if best.f > f_limit:\n",
    "            return failure, best.f\n",
    "        if len(successors) > 1:\n",
    "            alternative = successors[1].f\n",
    "        else:\n",
    "            alternative = math.inf\n",
    "        result, best.f = RBFS(problem, best, min(f_limit, alternative))\n",
    "        if result is not failure:\n",
    "            return result, best.f\n",
    "    \n",
    "\n",
    "\n",
    "romania = Map(\n",
    "    {('O', 'Z'):  71, ('O', 'S'): 151, ('A', 'Z'): 75, ('A', 'S'): 140, ('A', 'T'): 118, \n",
    "     ('L', 'T'): 111, ('L', 'M'):  70, ('D', 'M'): 75, ('C', 'D'): 120, ('C', 'R'): 146, \n",
    "     ('C', 'P'): 138, ('R', 'S'):  80, ('F', 'S'): 99, ('B', 'F'): 211, ('B', 'P'): 101, \n",
    "     ('B', 'G'):  90, ('B', 'U'):  85, ('H', 'U'): 98, ('E', 'H'):  86, ('U', 'V'): 142, \n",
    "     ('I', 'V'):  92, ('I', 'N'):  87, ('P', 'R'): 97},\n",
    "    {'A': ( 76, 497), 'B': (400, 327), 'C': (246, 285), 'D': (160, 296), 'E': (558, 294), \n",
    "     'F': (285, 460), 'G': (368, 257), 'H': (548, 355), 'I': (488, 535), 'L': (162, 379),\n",
    "     'M': (160, 343), 'N': (407, 561), 'O': (117, 580), 'P': (311, 372), 'R': (227, 412),\n",
    "     'S': (187, 463), 'T': ( 83, 414), 'U': (471, 363), 'V': (535, 473), 'Z': (92, 539)})\n",
    "\n",
    "\n",
    "r1 = RouteProblem('A', 'B', map=romania)\n",
    "sol = recursive_best_first_search(r1)\n",
    "print(sol)\n",
    "print(path_states(sol[0]))"
   ]
  },
  {
   "cell_type": "code",
   "execution_count": null,
   "id": "d164c550-188f-46d8-85b4-7f79d0db9ea6",
   "metadata": {},
   "outputs": [],
   "source": []
  },
  {
   "cell_type": "code",
   "execution_count": null,
   "id": "540136fc-7dad-44e2-8526-04fca350e846",
   "metadata": {},
   "outputs": [],
   "source": []
  },
  {
   "cell_type": "code",
   "execution_count": null,
   "id": "3237f8a2-ff08-4087-8c4c-44c4d445ff26",
   "metadata": {},
   "outputs": [],
   "source": []
  }
 ],
 "metadata": {
  "kernelspec": {
   "display_name": "Python 3 (ipykernel)",
   "language": "python",
   "name": "python3"
  },
  "language_info": {
   "codemirror_mode": {
    "name": "ipython",
    "version": 3
   },
   "file_extension": ".py",
   "mimetype": "text/x-python",
   "name": "python",
   "nbconvert_exporter": "python",
   "pygments_lexer": "ipython3",
   "version": "3.11.2"
  }
 },
 "nbformat": 4,
 "nbformat_minor": 5
}
