{
 "cells": [
  {
   "cell_type": "code",
   "execution_count": 233,
   "id": "6fa86ef3-f46e-48fb-ad79-18c359742eb2",
   "metadata": {},
   "outputs": [
    {
     "name": "stdout",
     "output_type": "stream",
     "text": [
      "breadth_first_search:\n",
      "       81 nodes |       82 goal |    5 cost |      35 actions | EightPuzzle((1, 4, 2, 0, 7, 5, 3, 6, 8),\n",
      "  160,948 nodes |  160,949 goal |   22 cost |  59,960 actions | EightPuzzle((1, 2, 3, 4, 5, 6, 7, 8, 0),\n",
      "  218,263 nodes |  218,264 goal |   23 cost |  81,829 actions | EightPuzzle((4, 0, 2, 5, 1, 3, 7, 8, 6),\n",
      "  418,771 nodes |  418,772 goal |   26 cost | 156,533 actions | EightPuzzle((7, 2, 4, 5, 0, 6, 8, 3, 1),\n",
      "  448,667 nodes |  448,668 goal |   27 cost | 167,799 actions | EightPuzzle((8, 6, 7, 2, 5, 4, 3, 0, 1),\n",
      "1,246,730 nodes |1,246,735 goal |  103 cost | 466,156 actions | TOTAL\n",
      "\n",
      "uniform_cost_search:\n",
      "      124 nodes |       46 goal |    5 cost |      50 actions | EightPuzzle((1, 4, 2, 0, 7, 5, 3, 6, 8),\n",
      "  214,952 nodes |   79,187 goal |   22 cost |  79,208 actions | EightPuzzle((1, 2, 3, 4, 5, 6, 7, 8, 0),\n",
      "  300,925 nodes |  112,082 goal |   23 cost | 112,104 actions | EightPuzzle((4, 0, 2, 5, 1, 3, 7, 8, 6),\n",
      "  457,766 nodes |  171,571 goal |   26 cost | 171,596 actions | EightPuzzle((7, 2, 4, 5, 0, 6, 8, 3, 1),\n",
      "  466,441 nodes |  174,474 goal |   27 cost | 174,500 actions | EightPuzzle((8, 6, 7, 2, 5, 4, 3, 0, 1),\n",
      "1,440,208 nodes |  537,360 goal |  103 cost | 537,458 actions | TOTAL\n",
      "\n",
      "recursive_best_first_manhatten:\n",
      "       15 nodes |        6 goal |    5 cost |      10 actions | EightPuzzle((1, 4, 2, 0, 7, 5, 3, 6, 8),\n",
      "  271,746 nodes |   99,853 goal |   22 cost |  99,874 actions | EightPuzzle((1, 2, 3, 4, 5, 6, 7, 8, 0),\n",
      "2,807,027 nodes |1,042,820 goal |   23 cost |1,042,842 actions | EightPuzzle((4, 0, 2, 5, 1, 3, 7, 8, 6),\n",
      "  746,166 nodes |  284,844 goal |   26 cost | 284,869 actions | EightPuzzle((7, 2, 4, 5, 0, 6, 8, 3, 1),\n",
      "  326,744 nodes |  126,504 goal |   27 cost | 126,530 actions | EightPuzzle((8, 6, 7, 2, 5, 4, 3, 0, 1),\n",
      "4,151,698 nodes |1,554,027 goal |  103 cost |1,554,125 actions | TOTAL\n",
      "\n",
      "astar_manhatten:\n",
      "       15 nodes |        6 goal |    5 cost |      10 actions | EightPuzzle((1, 4, 2, 0, 7, 5, 3, 6, 8),\n",
      "    3,614 nodes |    1,349 goal |   22 cost |   1,370 actions | EightPuzzle((1, 2, 3, 4, 5, 6, 7, 8, 0),\n",
      "    5,373 nodes |    2,010 goal |   23 cost |   2,032 actions | EightPuzzle((4, 0, 2, 5, 1, 3, 7, 8, 6),\n",
      "   10,832 nodes |    4,086 goal |   26 cost |   4,111 actions | EightPuzzle((7, 2, 4, 5, 0, 6, 8, 3, 1),\n",
      "   11,669 nodes |    4,417 goal |   27 cost |   4,443 actions | EightPuzzle((8, 6, 7, 2, 5, 4, 3, 0, 1),\n",
      "   31,503 nodes |   11,868 goal |  103 cost |  11,966 actions | TOTAL\n",
      "\n"
     ]
    }
   ],
   "source": [
    "from search_2 import *\n",
    "import math\n",
    "\n",
    "# My implementation of RBFS\n",
    "def recursive_best_first_search(problem, h):\n",
    "    return RBFS(problem, Node(problem.initial), math.inf, h)[0]\n",
    "\n",
    "def RBFS(problem, node, f_limit, h):\n",
    "    if problem.is_goal(node.state):\n",
    "        return node, 0\n",
    "    successors = []\n",
    "    for child in expand(problem, node):\n",
    "        successors.append(child)\n",
    "    if not successors:\n",
    "        return failure, math.inf\n",
    "    for s in successors:\n",
    "        s.f = max(g(s) + h(s), g(node) + h(node))\n",
    "    while True:\n",
    "        successors.sort(key = lambda x: x.f)\n",
    "        best = successors[0]\n",
    "        if best.f > f_limit:\n",
    "            return failure, best.f\n",
    "        if len(successors) > 1:\n",
    "            alternative = successors[1].f\n",
    "        else:\n",
    "            alternative = math.inf\n",
    "        result, best.f = RBFS(problem, best, min(f_limit, alternative), h)\n",
    "        if result is not failure:\n",
    "            return result, best.f\n",
    "\n",
    "def astar_misplaced_tiles(problem): return astar_search(problem, h=problem.h1)\n",
    "def recursive_best_first_misplaced_tiles(problem): return recursive_best_first_search(problem, h=problem.h1)\n",
    "def astar_manhatten(problem): return astar_search(problem, h=problem.h2)\n",
    "def recursive_best_first_manhatten(problem): return recursive_best_first_search(problem, h=problem.h2)\n",
    "\n",
    "\n",
    "e1 = EightPuzzle((1, 4, 2, 0, 7, 5, 3, 6, 8))\n",
    "e2 = EightPuzzle((1, 2, 3, 4, 5, 6, 7, 8, 0))\n",
    "e3 = EightPuzzle((4, 0, 2, 5, 1, 3, 7, 8, 6))\n",
    "e4 = EightPuzzle((7, 2, 4, 5, 0, 6, 8, 3, 1))\n",
    "e5 = EightPuzzle((8, 6, 7, 2, 5, 4, 3, 0, 1))\n",
    "\n",
    "\n",
    "report([breadth_first_search,\n",
    "        uniform_cost_search,\n",
    "        recursive_best_first_manhatten,\n",
    "        astar_manhatten], [e1, e2, e3, e4, e5]) \n",
    "        "
   ]
  },
  {
   "cell_type": "markdown",
   "id": "9d5358ae-7b69-436d-a52a-2849a385737d",
   "metadata": {},
   "source": [
    "We can see that A* expands significantly less nodes than RBFS. This is because A* maintains a queue which prevents it from needlessly re-expanding nodes. However, we should look at the time taken for each algorithm."
   ]
  },
  {
   "cell_type": "code",
   "execution_count": 234,
   "id": "d164c550-188f-46d8-85b4-7f79d0db9ea6",
   "metadata": {},
   "outputs": [
    {
     "name": "stdout",
     "output_type": "stream",
     "text": [
      "Time taken to execute RBFS:  7.054435729980469\n",
      "Execution time per node:  0.009456348163512693 166\n",
      "Time taken to execute A*:  0.09963512420654297\n",
      "Execution time per node:  0.009963512420654297 832\n"
     ]
    }
   ],
   "source": [
    "import time\n",
    "\n",
    "t0 = time.time()\n",
    "recursive_best_first_manhatten(e4)\n",
    "t1 = time.time()\n",
    "print(\"Time taken to execute RBFS: \", t1 - t0)\n",
    "print(\"Execution time per node: \", (t1 - t0) / 746,166)\n",
    "\n",
    "t0 = time.time()\n",
    "astar_manhatten(e4)\n",
    "t1 = time.time()\n",
    "print(\"Time taken to execute A*: \", t1 - t0)\n",
    "print(\"Execution time per node: \", (t1 - t0) / 10,832)\n"
   ]
  },
  {
   "cell_type": "markdown",
   "id": "9e92c2f7-de5b-4527-87fe-c348babc28e6",
   "metadata": {},
   "source": [
    "While RBFS takes significantly longer, the cost per node is about the same. This is because RBFS does not maintain a queue. "
   ]
  }
 ],
 "metadata": {
  "kernelspec": {
   "display_name": "Python 3 (ipykernel)",
   "language": "python",
   "name": "python3"
  },
  "language_info": {
   "codemirror_mode": {
    "name": "ipython",
    "version": 3
   },
   "file_extension": ".py",
   "mimetype": "text/x-python",
   "name": "python",
   "nbconvert_exporter": "python",
   "pygments_lexer": "ipython3",
   "version": "3.11.2"
  }
 },
 "nbformat": 4,
 "nbformat_minor": 5
}
