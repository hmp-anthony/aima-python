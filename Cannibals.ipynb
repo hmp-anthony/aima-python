{
 "cells": [
  {
   "cell_type": "code",
   "execution_count": 19,
   "id": "dc5a163b-a0c6-46ac-a6b8-3d896331c6f4",
   "metadata": {},
   "outputs": [],
   "source": [
    "from search_2 import *"
   ]
  },
  {
   "cell_type": "code",
   "execution_count": 46,
   "id": "15f03785-bd50-4326-bd47-99a202c8e1e0",
   "metadata": {},
   "outputs": [],
   "source": [
    "def add(xs,ys):\n",
    "     return tuple(x + y for x, y in zip(xs, ys))\n",
    "\n",
    "\n",
    "class Cannibals(Problem):\n",
    "    def __init__(self, initial=(3, 3, 1, 0, 0, 0), goal=(0, 0, 0, 1, 3, 3), obstacles=(), **kwds):\n",
    "        Problem.__init__(self, initial=initial, goal=goal, obstacles=set(), **kwds)\n",
    "        # The first index is the change in cannibals from\n",
    "        # the left hand side. The second index is the \n",
    "        # change in missionaries from the left hand side.\n",
    "        self.directions = [(-1, -1, -1, 1, 1, 1),\n",
    "                           (1, 1, 1, -1, -1, -1),\n",
    "                           (-2, 0, -1, 1, 2, 0),\n",
    "                           (2, 0, 1, -1, -2, 0),\n",
    "                           (0, -2, -1, 1, 0, 2),\n",
    "                           (0, 2, 1, -1, 0, -2),\n",
    "                           (-1, 0, -1, 1, 1, 0),\n",
    "                           (1, 0, 1, -1, -1, 0),\n",
    "                           (0, -1, -1, 1, 0, 1),\n",
    "                           (0, 1, 1, -1, 0, -1)]\n",
    "        \n",
    "    def result(self, state, action):\n",
    "        return add(action,state)\n",
    "    \n",
    "    def actions(self, state):\n",
    "        legit_directions = set()\n",
    "        for d in self.directions:\n",
    "            result = add(d,state)\n",
    "            # if more cannibals than missionaries\n",
    "            if(state[0] > state[1] or state[3] > state[4]):\n",
    "                continue\n",
    "            # if there are negative numbers / more than 3\n",
    "            # of each canns missionaries\n",
    "            if(state[0] < 0 or state[1] < 0 or state[0] > 3 or state[1] > 3):\n",
    "                continue\n",
    "                # now we need to check boat status\n",
    "            b1 = state[2]\n",
    "            if(b1 < 0 or b1 > 1):\n",
    "                continue\n",
    "            b2 = state[3]\n",
    "            if(b2 < 0 or b2 > 1):\n",
    "                continue    \n",
    "            if(b1 == 1):\n",
    "                if(b2 != 0):\n",
    "                    continue\n",
    "            if(b2 == 1):\n",
    "                if(b1 != 0):\n",
    "                    continue\n",
    "                # if we reach this point then we have a ligit state\n",
    "            legit_directions.add(d)\n",
    "        return legit_directions\n"
   ]
  },
  {
   "cell_type": "code",
   "execution_count": 47,
   "id": "6d591417-9225-4eba-bea5-9bb87268f2e0",
   "metadata": {},
   "outputs": [
    {
     "name": "stdout",
     "output_type": "stream",
     "text": [
      "[(3, 3, 1, 0, 0, 0), (2, 2, 0, 1, 1, 1), (2, 3, 1, 0, 1, 0), (1, 2, 0, 1, 2, 1), (2, 2, 1, 0, 1, 1), (0, 2, 0, 1, 3, 1), (1, 2, 1, 0, 2, 1), (0, 1, 0, 1, 3, 2), (1, 1, 1, 0, 2, 2), (0, 0, 0, 1, 3, 3)]\n"
     ]
    }
   ],
   "source": [
    "problem = Cannibals()\n",
    "print(path_states(astar_search(problem)))"
   ]
  }
 ],
 "metadata": {
  "kernelspec": {
   "display_name": "Python 3 (ipykernel)",
   "language": "python",
   "name": "python3"
  },
  "language_info": {
   "codemirror_mode": {
    "name": "ipython",
    "version": 3
   },
   "file_extension": ".py",
   "mimetype": "text/x-python",
   "name": "python",
   "nbconvert_exporter": "python",
   "pygments_lexer": "ipython3",
   "version": "3.11.2"
  }
 },
 "nbformat": 4,
 "nbformat_minor": 5
}
