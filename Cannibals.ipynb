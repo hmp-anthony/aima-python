{
 "cells": [
  {
   "cell_type": "code",
   "execution_count": 4,
   "id": "dc5a163b-a0c6-46ac-a6b8-3d896331c6f4",
   "metadata": {},
   "outputs": [],
   "source": [
    "from search_2 import *"
   ]
  },
  {
   "cell_type": "code",
   "execution_count": 45,
   "id": "15f03785-bd50-4326-bd47-99a202c8e1e0",
   "metadata": {},
   "outputs": [],
   "source": [
    "def add(xs,ys):\n",
    "     return tuple(x + y for x, y in zip(xs, ys))\n",
    "\n",
    "\n",
    "class Cannibals(Problem):\n",
    "    def __init__(self, initial=(3, 3, 1, 0, 0, 0), goal=(0, 0, 0, 1, 3, 3), obstacles=(), **kwds):\n",
    "        Problem.__init__(self, initial=initial, goal=goal, obstacles=set(), **kwds)\n",
    "        # The first index is the change in cannibals from\n",
    "        # the left hand side. The second index is the \n",
    "        # change in missionaries from the left hand side.\n",
    "        self.directions = [(-1, -1, -1, 1, 1, 1),\n",
    "                           (1, 1, 1, -1, -1, -1),\n",
    "                           (-2, 0, -1, 1, 2, 0),\n",
    "                           (2, 0, 1, -1, -2, 0),\n",
    "                           (0, -2, -1, 1, 0, 2),\n",
    "                           (0, 2, 1, -1, 0, -2),\n",
    "                           (-1, 0, -1, 1, 1, 0),\n",
    "                           (1, 0, 1, -1, -1, 0),\n",
    "                           (0, -1, -1, 1, 0, 1),\n",
    "                           (0, 1, 1, -1, 0, -1)]\n",
    "        \n",
    "    def result(self, state, action):\n",
    "        return add(action, state)\n",
    "    \n",
    "    def actions(self, state):\n",
    "        legit_directions = set()\n",
    "        for d in self.directions:\n",
    "            result = add(d, state)\n",
    "            # if more cannibals than missionaries, but if there are no missionaries \n",
    "            # we can have as many cannibals as we like :)\n",
    "            if(result[1] > 0):\n",
    "                if(result[0] > result[1]):\n",
    "                    continue\n",
    "            if(result[5] > 0):\n",
    "                if(result[4] > result[5]):\n",
    "                    continue\n",
    "            # if there are negative numbers / more than 3 of each cannibals/missionaries\n",
    "            # on the left hand side\n",
    "            if(result[0] < 0 or result[1] < 0 or result[0] > 3 or result[1] > 3):\n",
    "                continue\n",
    "            # if there are negative numbers / more than 3 of each cannibals/missionaries\n",
    "            # on the right hand side\n",
    "            if(result[4] < 0 or result[5] < 0 or result[4] > 3 or result[5] > 3):\n",
    "                continue\n",
    "            # now we need to check boat status - bit spagetti :)\n",
    "            b1 = result[2]\n",
    "            if(b1 < 0 or b1 > 1):\n",
    "                continue\n",
    "            b2 = result[3]\n",
    "            if(b2 < 0 or b2 > 1):\n",
    "                continue    \n",
    "            if(b1 == 1):\n",
    "                if(b2 != 0):\n",
    "                    continue\n",
    "            if(b2 == 1):\n",
    "                if(b1 != 0):\n",
    "                    continue\n",
    "                # if we reach this point then we have a ligit state\n",
    "            legit_directions.add(d)\n",
    "        return legit_directions\n"
   ]
  },
  {
   "cell_type": "code",
   "execution_count": 46,
   "id": "6d591417-9225-4eba-bea5-9bb87268f2e0",
   "metadata": {},
   "outputs": [
    {
     "name": "stdout",
     "output_type": "stream",
     "text": [
      "[(3, 3, 1, 0, 0, 0), (1, 3, 0, 1, 2, 0), (2, 3, 1, 0, 1, 0), (0, 3, 0, 1, 3, 0), (1, 3, 1, 0, 2, 0), (1, 1, 0, 1, 2, 2), (2, 2, 1, 0, 1, 1), (2, 0, 0, 1, 1, 3), (3, 0, 1, 0, 0, 3), (1, 0, 0, 1, 2, 3), (2, 0, 1, 0, 1, 3), (0, 0, 0, 1, 3, 3)]\n",
      "12\n"
     ]
    }
   ],
   "source": [
    "problem = Cannibals()\n",
    "states = path_states(breadth_first_search(problem))\n",
    "print(states)\n",
    "print(len(states))"
   ]
  },
  {
   "cell_type": "markdown",
   "id": "39f17a48-dd26-435f-8535-e67555abfa7c",
   "metadata": {},
   "source": [
    "We don't need fancy algorithms for this. Step costs are identical, so breadth first search is optimal and complete. "
   ]
  }
 ],
 "metadata": {
  "kernelspec": {
   "display_name": "Python 3 (ipykernel)",
   "language": "python",
   "name": "python3"
  },
  "language_info": {
   "codemirror_mode": {
    "name": "ipython",
    "version": 3
   },
   "file_extension": ".py",
   "mimetype": "text/x-python",
   "name": "python",
   "nbconvert_exporter": "python",
   "pygments_lexer": "ipython3",
   "version": "3.11.2"
  }
 },
 "nbformat": 4,
 "nbformat_minor": 5
}
