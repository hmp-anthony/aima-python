{
 "cells": [
  {
   "cell_type": "code",
   "execution_count": 112,
   "id": "69be6c14-308c-4cbe-9539-73a9403b8e6f",
   "metadata": {},
   "outputs": [
    {
     "name": "stdout",
     "output_type": "stream",
     "text": [
      "state:  Arad\n",
      "{'Drobeta', 'Sibiu', 'Hirsova', 'Iasi', 'Vaslui', 'Rimnicu', 'Timisoara', 'Bucharest', 'Eforie', 'Zerind', 'Giurgiu', 'Urziceni', 'Mehadia', 'Pitesti', 'Neamt', 'Craiova', 'Oradea', 'Lugoj', 'Fagaras'}\n",
      "state:  Zerind\n",
      "{'Urziceni', 'Vaslui', 'Drobeta', 'Bucharest', 'Mehadia', 'Pitesti', 'Sibiu', 'Eforie', 'Lugoj', 'Iasi', 'Giurgiu', 'Rimnicu', 'Neamt', 'Craiova', 'Oradea', 'Hirsova', 'Timisoara', 'Fagaras'}\n",
      "state:  Timisoara\n",
      "{'Urziceni', 'Vaslui', 'Drobeta', 'Bucharest', 'Mehadia', 'Pitesti', 'Sibiu', 'Eforie', 'Lugoj', 'Iasi', 'Giurgiu', 'Rimnicu', 'Neamt', 'Craiova', 'Oradea', 'Hirsova', 'Fagaras'}\n",
      "state:  Oradea\n",
      "{'Urziceni', 'Vaslui', 'Drobeta', 'Bucharest', 'Mehadia', 'Pitesti', 'Sibiu', 'Eforie', 'Lugoj', 'Iasi', 'Giurgiu', 'Rimnicu', 'Neamt', 'Craiova', 'Hirsova', 'Fagaras'}\n",
      "state:  Sibiu\n",
      "{'Urziceni', 'Vaslui', 'Drobeta', 'Bucharest', 'Mehadia', 'Pitesti', 'Eforie', 'Lugoj', 'Iasi', 'Giurgiu', 'Rimnicu', 'Neamt', 'Craiova', 'Hirsova', 'Fagaras'}\n",
      "state:  Lugoj\n",
      "{'Urziceni', 'Vaslui', 'Drobeta', 'Bucharest', 'Mehadia', 'Pitesti', 'Eforie', 'Iasi', 'Giurgiu', 'Rimnicu', 'Neamt', 'Craiova', 'Hirsova', 'Fagaras'}\n",
      "state:  Rimnicu\n",
      "{'Urziceni', 'Vaslui', 'Drobeta', 'Bucharest', 'Mehadia', 'Pitesti', 'Eforie', 'Iasi', 'Giurgiu', 'Neamt', 'Craiova', 'Hirsova', 'Fagaras'}\n",
      "state:  Mehadia\n",
      "{'Urziceni', 'Vaslui', 'Drobeta', 'Bucharest', 'Pitesti', 'Eforie', 'Iasi', 'Giurgiu', 'Neamt', 'Craiova', 'Hirsova', 'Fagaras'}\n",
      "state:  Drobeta\n",
      "{'Urziceni', 'Vaslui', 'Bucharest', 'Pitesti', 'Eforie', 'Iasi', 'Giurgiu', 'Neamt', 'Craiova', 'Hirsova', 'Fagaras'}\n",
      "state:  Fagaras\n",
      "{'Urziceni', 'Vaslui', 'Bucharest', 'Pitesti', 'Eforie', 'Iasi', 'Giurgiu', 'Neamt', 'Craiova', 'Hirsova'}\n",
      "state:  Pitesti\n",
      "{'Urziceni', 'Vaslui', 'Bucharest', 'Eforie', 'Iasi', 'Giurgiu', 'Neamt', 'Craiova', 'Hirsova'}\n",
      "state:  Craiova\n",
      "{'Urziceni', 'Vaslui', 'Bucharest', 'Eforie', 'Iasi', 'Giurgiu', 'Neamt', 'Hirsova'}\n",
      "state:  Neamt\n",
      "{'Urziceni', 'Vaslui', 'Bucharest', 'Eforie', 'Iasi', 'Giurgiu', 'Hirsova'}\n",
      "state:  Bucharest\n",
      "{'Urziceni', 'Vaslui', 'Eforie', 'Iasi', 'Giurgiu', 'Hirsova'}\n",
      "state:  Giurgiu\n",
      "{'Urziceni', 'Vaslui', 'Eforie', 'Iasi', 'Hirsova'}\n",
      "state:  Iasi\n",
      "{'Urziceni', 'Hirsova', 'Eforie', 'Vaslui'}\n",
      "state:  Urziceni\n",
      "{'Vaslui', 'Hirsova', 'Eforie'}\n",
      "state:  Vaslui\n",
      "{'Hirsova', 'Eforie'}\n",
      "state:  Hirsova\n",
      "{'Eforie'}\n"
     ]
    },
    {
     "data": {
      "text/plain": [
       "['Arad', 'Eforie']"
      ]
     },
     "execution_count": 112,
     "metadata": {},
     "output_type": "execute_result"
    }
   ],
   "source": [
    "from search_2 import *\n",
    "import numpy as np\n",
    "\n",
    "romania_map = dict(\n",
    "    Arad=(91, 492), Bucharest=(400, 327), Craiova=(253, 288),\n",
    "    Drobeta=(165, 299), Eforie=(562, 293), Fagaras=(305, 449),\n",
    "    Giurgiu=(375, 270), Hirsova=(534, 350), Iasi=(473, 506),\n",
    "    Lugoj=(165, 379), Mehadia=(168, 339), Neamt=(406, 537),\n",
    "    Oradea=(131, 571), Pitesti=(320, 368), Rimnicu=(233, 410),\n",
    "    Sibiu=(207, 457), Timisoara=(94, 410), Urziceni=(456, 350),\n",
    "    Vaslui=(509, 444), Zerind=(108, 531))\n",
    "\n",
    "distances = {}\n",
    "all_cities = []\n",
    "\n",
    "for city in romania_map.keys():\n",
    "    distances[city] = {}\n",
    "    all_cities.append(city)\n",
    "    \n",
    "all_cities.sort()\n",
    "\n",
    "for name_1, coordinates_1 in romania_map.items():\n",
    "        for name_2, coordinates_2 in romania_map.items():\n",
    "            distances[name_1][name_2] = np.linalg.norm(\n",
    "                [coordinates_1[0] - coordinates_2[0], coordinates_1[1] - coordinates_2[1]])\n",
    "            distances[name_2][name_1] = np.linalg.norm(\n",
    "                [coordinates_1[0] - coordinates_2[0], coordinates_1[1] - coordinates_2[1]])\n",
    "\n",
    "class TSP(Problem):\n",
    "    def __init__(self, initial, cities, distances, **kwds):\n",
    "        Problem.__init__(self, initial=initial, goal=[], **kwds)\n",
    "        self.initial = initial # The start city\n",
    "        self.visited = [initial]\n",
    "        cities.remove(initial)\n",
    "        self.unvisited = cities\n",
    "        self.cities = cities\n",
    "        self.distances = distances\n",
    "    \n",
    "    def is_goal(self, state):\n",
    "        #print(len(self.visited))\n",
    "        #print(len(self.unvisited))\n",
    "        if len(self.visited) == 19 and len(self.unvisited) == 1:\n",
    "            return True\n",
    "        return False\n",
    "    \n",
    "    def actions(self, state):\n",
    "        print(\"state: \", state)\n",
    "        if state in self.unvisited:\n",
    "            self.unvisited.remove(state)\n",
    "            self.visited.append(state)\n",
    "        #print(self.visited)\n",
    "        print(set(self.unvisited))\n",
    "        return set(self.unvisited)\n",
    "\n",
    "    def result(self, state, action):\n",
    "        return action\n",
    "\n",
    "    def action_cost(self, state1, action, state2):\n",
    "        cost = self.distances[state1][state2]\n",
    "        return cost\n",
    "\n",
    "\n",
    "tsp = TSP(all_cities[0], all_cities.copy(), distances.copy())\n",
    "path_states(uniform_cost_search(tsp))"
   ]
  },
  {
   "cell_type": "code",
   "execution_count": null,
   "id": "c790efe2-8115-4aa3-8dbf-fdc029e5eb2b",
   "metadata": {},
   "outputs": [],
   "source": []
  },
  {
   "cell_type": "code",
   "execution_count": null,
   "id": "f84c7d40-2207-422d-ad5e-b6bdb0e1cbf2",
   "metadata": {},
   "outputs": [],
   "source": []
  }
 ],
 "metadata": {
  "kernelspec": {
   "display_name": "Python 3 (ipykernel)",
   "language": "python",
   "name": "python3"
  },
  "language_info": {
   "codemirror_mode": {
    "name": "ipython",
    "version": 3
   },
   "file_extension": ".py",
   "mimetype": "text/x-python",
   "name": "python",
   "nbconvert_exporter": "python",
   "pygments_lexer": "ipython3",
   "version": "3.11.2"
  }
 },
 "nbformat": 4,
 "nbformat_minor": 5
}
