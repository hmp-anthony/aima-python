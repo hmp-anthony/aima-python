{
 "cells": [
  {
   "cell_type": "code",
   "execution_count": 8,
   "id": "afb7219d-2eed-4626-8a44-a84d1166ff0c",
   "metadata": {
    "scrolled": true
   },
   "outputs": [
    {
     "name": "stdout",
     "output_type": "stream",
     "text": [
      "A 365.8906940603983\n",
      "B 0.0\n",
      "C 159.62455951387932\n",
      "D 241.99380157351138\n",
      "E 161.4094173212951\n",
      "F 175.82377541163197\n",
      "G 76.96752561957543\n",
      "H 150.62536307010186\n",
      "I 225.84950741588966\n",
      "L 243.61444948935193\n",
      "M 240.53274205396653\n",
      "N 234.10467744152402\n",
      "O 379.6024235960566\n",
      "P 99.72963451251589\n",
      "R 192.753728887407\n",
      "S 252.7152547829276\n",
      "T 328.72176684850064\n",
      "U 79.60527620704548\n",
      "V 198.84918908559823\n",
      "Z 373.9090798576574\n"
     ]
    }
   ],
   "source": [
    "import math\n",
    "\n",
    "\n",
    "romania = {'A': ( 76, 497), 'B': (400, 327), 'C': (246, 285), 'D': (160, 296), 'E': (558, 294), \n",
    "           'F': (285, 460), 'G': (368, 257), 'H': (548, 355), 'I': (488, 535), 'L': (162, 379),\n",
    "           'M': (160, 343), 'N': (407, 561), 'O': (117, 580), 'P': (311, 372), 'R': (227, 412),\n",
    "           'S': (187, 463), 'T': ( 83, 414), 'U': (471, 363), 'V': (535, 473), 'Z': (92, 539)}\n",
    "\n",
    "distances_to_B = {}\n",
    "\n",
    "for k in romania.keys():\n",
    "    distances_to_B[k] = math.sqrt( (romania[k][0] - romania['B'][0]) ** 2 + (romania[k][1] - romania['B'][1]) ** 2 )\n",
    "\n",
    "for k in romania.keys():\n",
    "    print(k, distances_to_B[k])"
   ]
  },
  {
   "cell_type": "code",
   "execution_count": null,
   "id": "0b717ab2-1b67-4f5e-a7a9-449abc3c7c13",
   "metadata": {},
   "outputs": [],
   "source": []
  }
 ],
 "metadata": {
  "kernelspec": {
   "display_name": "Python 3 (ipykernel)",
   "language": "python",
   "name": "python3"
  },
  "language_info": {
   "codemirror_mode": {
    "name": "ipython",
    "version": 3
   },
   "file_extension": ".py",
   "mimetype": "text/x-python",
   "name": "python",
   "nbconvert_exporter": "python",
   "pygments_lexer": "ipython3",
   "version": "3.11.2"
  }
 },
 "nbformat": 4,
 "nbformat_minor": 5
}
