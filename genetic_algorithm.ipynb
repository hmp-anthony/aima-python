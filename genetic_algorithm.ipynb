{
 "cells": [
  {
   "cell_type": "markdown",
   "id": "89fa37a0-074f-497e-a4c6-dd16bc8dd189",
   "metadata": {},
   "source": [
    "Genetic algorithms work on the principle of Darwinian evolution. According to Darwinian evolution there are three key concepts that need to be in place for evolution to happen. The first is heredity. That is, there must be a procedure in place that allows \"parents\" to pass on information to thier \"children\". The second is variation. That is, we must have either a population of significant size, or some way to mutate individuals to introduce some variation. Finally we have selection. This is sometimes referred to as \"survival of the fittest\". This means that more adept, or superior, individuals are more likely to survive and pass down their genetic material. The genetic algorithm encodes these behaviours as `recombine`, `mutate` and `selection`."
   ]
  },
  {
   "cell_type": "code",
   "execution_count": 2,
   "id": "3c82c663-794b-45b4-ad06-7a2d3653548c",
   "metadata": {},
   "outputs": [],
   "source": [
    "from utils import *\n",
    "\n",
    "def init_population(pop_number, gene_pool, state_length):\n",
    "    \"\"\"Initializes population for genetic algorithm\n",
    "    pop_number  :  Number of individuals in population\n",
    "    gene_pool   :  List of possible values for individuals\n",
    "    state_length:  The length of each individual\"\"\"\n",
    "    g = len(gene_pool)\n",
    "    population = []\n",
    "    for i in range(pop_number):\n",
    "        new_individual = [gene_pool[random.randrange(0, g)] for j in range(state_length)]\n",
    "        population.append(new_individual)\n",
    "\n",
    "    return population\n",
    "\n",
    "def fitness_threshold(fitness_fn, f_thres, population):\n",
    "    if not f_thres:\n",
    "        return None\n",
    "\n",
    "    fittest_individual = max(population, key=fitness_fn)\n",
    "    if fitness_fn(fittest_individual) >= f_thres:\n",
    "        return fittest_individual\n",
    "\n",
    "    return None\n",
    "\n",
    "def genetic_algorithm(population, fitness_fn, gene_pool=[0, 1], f_thres=None, ngen=1000, pmut=0.1):\n",
    "    \"\"\"[Figure 4.8]\"\"\"\n",
    "    for i in range(ngen):\n",
    "        population = [mutate(recombine(*select(2, population, fitness_fn)), gene_pool, pmut)\n",
    "                      for i in range(len(population))]\n",
    "\n",
    "        fittest_individual = fitness_threshold(fitness_fn, f_thres, population)\n",
    "        if fittest_individual:\n",
    "            return fittest_individual\n",
    "\n",
    "\n",
    "    return max(population, key=fitness_fn)\n",
    "\n",
    "def select(r, population, fitness_fn):\n",
    "    fitnesses = map(fitness_fn, population)\n",
    "    sampler = weighted_sampler(population, fitnesses)\n",
    "    return [sampler() for i in range(r)]\n",
    "\n",
    "def recombine(x, y):\n",
    "    n = len(x)\n",
    "    c = random.randrange(0, n)\n",
    "    return x[:c] + y[c:]\n",
    "\n",
    "def mutate(x, gene_pool, pmut):\n",
    "    if random.uniform(0, 1) >= pmut:\n",
    "        return x\n",
    "\n",
    "    n = len(x)\n",
    "    g = len(gene_pool)\n",
    "    c = random.randrange(0, n)\n",
    "    r = random.randrange(0, g)\n",
    "\n",
    "    new_gene = gene_pool[r]\n",
    "    return x[:c] + [new_gene] + x[c + 1:]"
   ]
  },
  {
   "cell_type": "markdown",
   "id": "50d0309e-21c7-4e6c-a2e3-0a2897e31897",
   "metadata": {},
   "source": [
    "Now we use the above code on some examples. We are going to start with a gene pool consisting of upper case characters, lower case characters and space character. Our aim is to obtain the below target string. The genetic algorithm process will select two of the best \"individuals\" (strings of characters), recombine them and mutate them. Each of these recombined and mutated individuals become members of the new population and the process continues for a specified number of iterations. Of course the algorithm has no idea what it means for an individual to be the best, so we have to provide a `fitness_fn`."
   ]
  },
  {
   "cell_type": "code",
   "execution_count": 3,
   "id": "196f88c0-f290-4f71-afce-64f16e89a41a",
   "metadata": {},
   "outputs": [
    {
     "name": "stdout",
     "output_type": "stream",
     "text": [
      "['A', 'n', 't', 'h', 'o', 'n', 'y', ' ', 'i', 's', ' ', 'c', 'o', 'o', 'l']\n"
     ]
    }
   ],
   "source": [
    "target = 'Anthony is cool'\n",
    "\n",
    "# The ASCII values of uppercase characters ranges from 65 to 91\n",
    "u_case = [chr(x) for x in range(65, 91)]\n",
    "# The ASCII values of lowercase characters ranges from 97 to 123\n",
    "l_case = [chr(x) for x in range(97, 123)]\n",
    "\n",
    "gene_pool = []\n",
    "gene_pool.extend(u_case) # adds the uppercase list to the gene pool\n",
    "gene_pool.extend(l_case) # adds the lowercase list to the gene pool\n",
    "gene_pool.append(' ')   \n",
    "\n",
    "max_population = 100\n",
    "mutation_rate = 0.07 # 7%\n",
    "\n",
    "def fitness_fn(sample):\n",
    "    # initialize fitness to 0\n",
    "    fitness = 0\n",
    "    for i in range(len(sample)):\n",
    "        # increment fitness by 1 for every matching character\n",
    "        if sample[i] == target[i]:\n",
    "            fitness += 1\n",
    "    return fitness\n",
    "\n",
    "\n",
    "population = init_population(max_population, gene_pool, len(target))\n",
    "result = genetic_algorithm(population, fitness_fn, gene_pool, f_thres=None, ngen=1000, pmut=0.1)\n",
    "print(result)"
   ]
  },
  {
   "cell_type": "markdown",
   "id": "81df2340-3e52-4251-a186-dac14fed41c9",
   "metadata": {},
   "source": [
    "My next example is a more complex version of that which appears in the AIMA repo."
   ]
  },
  {
   "cell_type": "code",
   "execution_count": 14,
   "id": "c2c91a6c-a499-4d78-88ea-0b6de35b8ec0",
   "metadata": {},
   "outputs": [
    {
     "name": "stdout",
     "output_type": "stream",
     "text": [
      "['G', 'B', 'G', 'Y', 'R', 'Y']\n"
     ]
    }
   ],
   "source": [
    "edges = {\n",
    "    'A': [0, 1],\n",
    "    'B': [0, 3],\n",
    "    'C': [1, 2],\n",
    "    'D': [2, 3],\n",
    "    'E': [0, 4],\n",
    "    'F': [1, 4],\n",
    "    'G': [2, 4],\n",
    "    'H': [3, 4],\n",
    "    'I': [5, 0],\n",
    "    'J': [5, 1],\n",
    "    'K': [5, 4]\n",
    "}\n",
    "\n",
    "gene_pool = ['R', 'G', 'B', 'Y']\n",
    "population = init_population(50, gene_pool, 6)\n",
    "\n",
    "def fitness(c):\n",
    "    return sum(c[n1] != c[n2] for (n1, n2) in edges.values())\n",
    "\n",
    "solution = genetic_algorithm(population, fitness, gene_pool)\n",
    "print(solution)"
   ]
  },
  {
   "cell_type": "markdown",
   "id": "9bea217e-e830-4156-a343-c295e4099382",
   "metadata": {},
   "source": [
    "By sketching a little diagram, we can see that this solution is correct. Now let's look at the N-queens problem."
   ]
  },
  {
   "cell_type": "code",
   "execution_count": 22,
   "id": "67371d95-f0fd-4d96-b9a6-54a78cc81252",
   "metadata": {},
   "outputs": [
    {
     "name": "stdout",
     "output_type": "stream",
     "text": [
      "[3, 0, 7, 1, 6, 7, 2, 4]\n",
      "26\n"
     ]
    }
   ],
   "source": [
    "population = init_population(1000, range(8), 8)\n",
    "\n",
    "def fitness(q):\n",
    "    non_attacking = 0\n",
    "    for row1 in range(len(q)):\n",
    "        for row2 in range(row1+1, len(q)):\n",
    "            col1 = int(q[row1])\n",
    "            col2 = int(q[row2])\n",
    "            row_diff = row1 - row2\n",
    "            col_diff = col1 - col2\n",
    "\n",
    "            if col1 != col2 and row_diff != col_diff and row_diff != -col_diff:\n",
    "                non_attacking += 1\n",
    "\n",
    "    return non_attacking\n",
    "\n",
    "solution = genetic_algorithm(population, fitness, f_thres=25, gene_pool=range(8), ngen=1000, pmut = 0.1)\n",
    "print(solution)\n",
    "print(fitness(solution))"
   ]
  },
  {
   "cell_type": "markdown",
   "id": "d20f8b12-7946-49c4-a855-d519f98c2f97",
   "metadata": {},
   "source": [
    "To get a better understanding of what this means, we need to do a little math. The fitness function calcualtes the number of pairs of non-attacking queens. If there were no attacking pairs of queens then the number of pairs would be the number of distinct pairs we can select from 8. This is 8C2, or (8 * 7) / 2 = 28. So 28 is the best possible score. Saying that, 26 is not that bad. We have set the function threshold to 25."
   ]
  }
 ],
 "metadata": {
  "kernelspec": {
   "display_name": "Python 3 (ipykernel)",
   "language": "python",
   "name": "python3"
  },
  "language_info": {
   "codemirror_mode": {
    "name": "ipython",
    "version": 3
   },
   "file_extension": ".py",
   "mimetype": "text/x-python",
   "name": "python",
   "nbconvert_exporter": "python",
   "pygments_lexer": "ipython3",
   "version": "3.11.2"
  }
 },
 "nbformat": 4,
 "nbformat_minor": 5
}
