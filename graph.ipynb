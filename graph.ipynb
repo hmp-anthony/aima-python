{
 "cells": [
  {
   "cell_type": "code",
   "execution_count": 35,
   "id": "758a3fab-9eb3-4274-b192-16e844a0088d",
   "metadata": {},
   "outputs": [
    {
     "name": "stdout",
     "output_type": "stream",
     "text": [
      "{'A': 0, 'D': 1, 'E': 2, 'G': 3, 'N': 4, 'R': 5, 'T': 6, 'V': 7}\n",
      "cities ['A', 'D', 'E', 'G', 'N', 'R', 'T', 'V']\n",
      "1097.0644832222983\n"
     ]
    }
   ],
   "source": [
    "import numpy as np\n",
    "from Graph import *\n",
    "\n",
    "romania = {'A': ( 76, 497), 'D': (160, 296),\n",
    "           'E': (558, 294), 'G': (368, 257),\n",
    "           'N': (407, 561), 'R': (227, 412),\n",
    "           'T': ( 83, 414), 'V': (535, 473)}\n",
    "\n",
    "distances = {}\n",
    "cities = []\n",
    "\n",
    "# fill out distances\n",
    "for city in romania.keys():\n",
    "    distances[city] = {}\n",
    "    cities.append(city)\n",
    "\n",
    "for name_1, coordinates_1 in romania.items():\n",
    "        for name_2, coordinates_2 in romania.items():\n",
    "            distances[name_1][name_2] = np.linalg.norm(\n",
    "                [coordinates_1[0] - coordinates_2[0], coordinates_1[1] - coordinates_2[1]])\n",
    "            distances[name_2][name_1] = np.linalg.norm(\n",
    "                [coordinates_1[0] - coordinates_2[0], coordinates_1[1] - coordinates_2[1]])\n",
    "\n",
    "\n",
    "rint = {}\n",
    "romania_keys = list(romania.keys())\n",
    "\n",
    "for k in range(len(romania_keys)):\n",
    "    rint[romania_keys[k]] = k\n",
    "\n",
    "print(romania_to_int)\n",
    "    \n",
    "\n",
    "# Example usage:\n",
    "g = Graph(8)\n",
    "\n",
    "for c1 in cities:\n",
    "    for c2 in cities:\n",
    "        if c1 == c2:\n",
    "            continue\n",
    "        g.add_edge(rint[c1], rint[c2], distances[c1][c2])\n",
    "\n",
    "\n",
    "print(\"cities\", cities)\n",
    "\n",
    "mst = g.kruskal_mst()\n",
    "\n",
    "total_weight = 0\n",
    "for u, v, weight in mst:\n",
    "    total_weight = total_weight + weight\n",
    "\n",
    "print(total_weight)\n"
   ]
  },
  {
   "cell_type": "code",
   "execution_count": null,
   "id": "a0bd1412-5a73-4b22-8dac-e14bd0ffb31c",
   "metadata": {},
   "outputs": [],
   "source": []
  }
 ],
 "metadata": {
  "kernelspec": {
   "display_name": "Python 3 (ipykernel)",
   "language": "python",
   "name": "python3"
  },
  "language_info": {
   "codemirror_mode": {
    "name": "ipython",
    "version": 3
   },
   "file_extension": ".py",
   "mimetype": "text/x-python",
   "name": "python",
   "nbconvert_exporter": "python",
   "pygments_lexer": "ipython3",
   "version": "3.11.2"
  }
 },
 "nbformat": 4,
 "nbformat_minor": 5
}
