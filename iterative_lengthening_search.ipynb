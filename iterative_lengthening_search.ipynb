{
 "cells": [
  {
   "cell_type": "code",
   "execution_count": 51,
   "id": "ef35fc56-180a-4d1a-9099-bed021f6e0ee",
   "metadata": {},
   "outputs": [],
   "source": [
    "from search_2 import *\n",
    "\n",
    "def best_first_limited_cost_search(problem, f, cost_limit):\n",
    "    node = Node(problem.initial)\n",
    "    frontier = PriorityQueue([node], key=f)\n",
    "    reached = {problem.initial : node}\n",
    "    result = failure\n",
    "    lowest_path_cost = None;\n",
    "    while frontier:\n",
    "        node  = frontier.pop()\n",
    "        if problem.is_goal(node.state):\n",
    "            # we found a solution\n",
    "            return node\n",
    "        for child in expand(problem, node):\n",
    "            s = child.state\n",
    "            # if the path_cost is larger than cost_limit, we need to ignore this child.\n",
    "            if child.path_cost > cost_limit:\n",
    "                print(child.state, child.path_cost) \n",
    "                if lowest_path_cost == None or child.path_cost < lowest_path_cost:\n",
    "                    lowest_path_cost = child.path_cost\n",
    "                    result = Node('cost_limit_reached', path_cost = lowest_path_cost)\n",
    "            elif s not in reached or child.path_cost < reached[s].path_cost:\n",
    "                reached[s] = child\n",
    "                frontier.add(child)\n",
    "    return result\n",
    "\n",
    "def iterative_lengthening_search(problem):\n",
    "    print(\"first iteration\")\n",
    "    n = best_first_limited_cost_search(problem, g, 0)\n",
    "    print('\\t', n.path_cost)\n",
    "    \n",
    "    print(\"second iteration\")\n",
    "    n = best_first_limited_cost_search(problem, g, n.path_cost)\n",
    "    print('\\t', n.path_cost)\n",
    "    \n",
    "    print(\"third iteration\")\n",
    "    n = best_first_limited_cost_search(problem, g, 1000)\n",
    "    print('\\t', n.path_cost)\n",
    "    return n"
   ]
  },
  {
   "cell_type": "code",
   "execution_count": 52,
   "id": "99015fa1-471a-4149-bfe1-4bd7f12671fd",
   "metadata": {},
   "outputs": [],
   "source": [
    "romania = Map(\n",
    "    {('O', 'Z'):  71, ('O', 'S'): 151, ('A', 'Z'): 75, ('A', 'S'): 140, ('A', 'T'): 118, \n",
    "     ('L', 'T'): 111, ('L', 'M'):  70, ('D', 'M'): 75, ('C', 'D'): 120, ('C', 'R'): 146, \n",
    "     ('C', 'P'): 138, ('R', 'S'):  80, ('F', 'S'): 99, ('B', 'F'): 211, ('B', 'P'): 101, \n",
    "     ('B', 'G'):  90, ('B', 'U'):  85, ('H', 'U'): 98, ('E', 'H'):  86, ('U', 'V'): 142, \n",
    "     ('I', 'V'):  92, ('I', 'N'):  87, ('P', 'R'): 97},\n",
    "    {'A': ( 76, 497), 'B': (400, 327), 'C': (246, 285), 'D': (160, 296), 'E': (558, 294), \n",
    "     'F': (285, 460), 'G': (368, 257), 'H': (548, 355), 'I': (488, 535), 'L': (162, 379),\n",
    "     'M': (160, 343), 'N': (407, 561), 'O': (117, 580), 'P': (311, 372), 'R': (227, 412),\n",
    "     'S': (187, 463), 'T': ( 83, 414), 'U': (471, 363), 'V': (535, 473), 'Z': (92, 539)})\n",
    "\n",
    "\n",
    "r0 = RouteProblem('A', 'A', map=romania)\n",
    "r1 = RouteProblem('A', 'B', map=romania)\n",
    "r2 = RouteProblem('N', 'L', map=romania)\n",
    "r3 = RouteProblem('E', 'T', map=romania)\n",
    "r4 = RouteProblem('O', 'M', map=romania)"
   ]
  },
  {
   "cell_type": "code",
   "execution_count": 53,
   "id": "9e580734-b4f8-4d48-82d2-adcac10f8714",
   "metadata": {},
   "outputs": [
    {
     "name": "stdout",
     "output_type": "stream",
     "text": [
      "first iteration\n",
      "Z 75\n",
      "S 140\n",
      "T 118\n",
      "\t 75\n",
      "second iteration\n",
      "S 140\n",
      "T 118\n",
      "O 146\n",
      "A 150\n",
      "\t 118\n",
      "third iteration\n",
      "\t 418\n"
     ]
    },
    {
     "data": {
      "text/plain": [
       "['A', 'S', 'R', 'P', 'B']"
      ]
     },
     "execution_count": 53,
     "metadata": {},
     "output_type": "execute_result"
    }
   ],
   "source": [
    "path_states(iterative_lengthening_search(r1))"
   ]
  },
  {
   "cell_type": "code",
   "execution_count": 54,
   "id": "8b501fbc-64e9-48c4-81d1-03af28b8c8c6",
   "metadata": {},
   "outputs": [
    {
     "name": "stdout",
     "output_type": "stream",
     "text": [
      "['A', 'S', 'R', 'P', 'B']\n",
      "418\n"
     ]
    }
   ],
   "source": [
    "n = uniform_cost_search(r1)\n",
    "print(path_states(n))\n",
    "print(n.path_cost)"
   ]
  },
  {
   "cell_type": "code",
   "execution_count": null,
   "id": "09f683d4-d27e-4b9b-b279-bb7c46673870",
   "metadata": {},
   "outputs": [],
   "source": []
  }
 ],
 "metadata": {
  "kernelspec": {
   "display_name": "Python 3 (ipykernel)",
   "language": "python",
   "name": "python3"
  },
  "language_info": {
   "codemirror_mode": {
    "name": "ipython",
    "version": 3
   },
   "file_extension": ".py",
   "mimetype": "text/x-python",
   "name": "python",
   "nbconvert_exporter": "python",
   "pygments_lexer": "ipython3",
   "version": "3.11.2"
  }
 },
 "nbformat": 4,
 "nbformat_minor": 5
}
