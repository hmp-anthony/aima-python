{
 "cells": [
  {
   "cell_type": "code",
   "execution_count": 80,
   "id": "8538faa5-d001-4cd1-aca7-713308a31db2",
   "metadata": {},
   "outputs": [
    {
     "name": "stdout",
     "output_type": "stream",
     "text": [
      "0.5639076232910156\n",
      "-1527\n"
     ]
    }
   ],
   "source": [
    "from search_2 import *\n",
    "import time\n",
    "\n",
    "N = 100\n",
    "\n",
    "# First we code up the search agent\n",
    "class VacuumSearch(Problem):\n",
    "    def __init__(self, initial=(0,0), goal=None, dirt=[], **kwds):\n",
    "        Problem.__init__(self, initial=initial, goal=goal, dirt=dirt, **kwds)\n",
    "        self.dirt = dirt\n",
    "        \n",
    "    directions = [(-1, 0), (+1, 0), (0, +1), (0, -1)]\n",
    "\n",
    "    def action_cost(self, s, action, s1):\n",
    "        if s == s1:\n",
    "            return -100\n",
    "        return 1\n",
    "    \n",
    "    def is_goal(self, state):\n",
    "        return self.dirt == []\n",
    "\n",
    "    def result(self, state, action):\n",
    "        return action\n",
    "    \n",
    "    def actions(self, state):\n",
    "        if state in self.dirt:\n",
    "            self.dirt.remove(state)\n",
    "            S = {(state[0],state[1])}\n",
    "            return S\n",
    "        x, y = state\n",
    "        S = {(x + dx, y + dy) for (dx, dy) in self.directions}\n",
    "        Z = {x for x in S if x[0] in range(N) and x[1] in range(N)}\n",
    "        return Z\n",
    "\n",
    "\n",
    "k = int(0.2 * N)\n",
    "dirt = [(x,y) for x in range(N) for y in range(N)]\n",
    "dirt = random.sample(dirt, k=k)\n",
    "v = VacuumSearch(dirt=dirt)\n",
    "\n",
    "# execution time\n",
    "t0 = time.time()\n",
    "u1 = uniform_cost_search(v)\n",
    "t1 = time.time()\n",
    "print(t1-t0)\n",
    "\n",
    "# path cost of actions\n",
    "print(u1.path_cost) "
   ]
  },
  {
   "cell_type": "code",
   "execution_count": null,
   "id": "952c637b-82fc-4ad6-bc49-39998d9acd8e",
   "metadata": {},
   "outputs": [],
   "source": []
  },
  {
   "cell_type": "code",
   "execution_count": null,
   "id": "4f3bf803-5b3d-48ca-bf5a-75161303aeb0",
   "metadata": {},
   "outputs": [],
   "source": []
  }
 ],
 "metadata": {
  "kernelspec": {
   "display_name": "Python 3 (ipykernel)",
   "language": "python",
   "name": "python3"
  },
  "language_info": {
   "codemirror_mode": {
    "name": "ipython",
    "version": 3
   },
   "file_extension": ".py",
   "mimetype": "text/x-python",
   "name": "python",
   "nbconvert_exporter": "python",
   "pygments_lexer": "ipython3",
   "version": "3.11.2"
  }
 },
 "nbformat": 4,
 "nbformat_minor": 5
}
