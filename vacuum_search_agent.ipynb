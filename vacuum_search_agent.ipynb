{
 "cells": [
  {
   "cell_type": "code",
   "execution_count": null,
   "id": "8538faa5-d001-4cd1-aca7-713308a31db2",
   "metadata": {},
   "outputs": [],
   "source": [
    "from search_2 import *\n",
    "\n",
    "class VacuumSearch(Problem):\n",
    "    def __init__(self, initial=(0,0), goal=None, dirt=[], **kwds):\n",
    "        Problem.__init__(self, initial=initial, goal=goal, dirt=dirt, **kwds)\n",
    "        self.dirt = dirt\n",
    "        \n",
    "    directions = [(-1, 0), (+1, 0), (0, +1), (0, -1)]\n",
    "\n",
    "    def action_cost(self, s, action, s1):\n",
    "        if s == s1:\n",
    "            # we have sucked up some dirt\n",
    "            return -100\n",
    "        return 1\n",
    "    \n",
    "    def is_goal(self, state):\n",
    "        return self.dirt == []\n",
    "\n",
    "    def result(self, state, action):\n",
    "        return action if action not in self.dirt else state\n",
    "    \n",
    "    def actions(self, state):\n",
    "        if state in self.dirt:\n",
    "            self.dirt.remove(state)\n",
    "            return set(state)\n",
    "        x, y = state\n",
    "        S = {(x + dx, y + dy) for (dx, dy) in self.directions}\n",
    "        Z = {x for x in S if x[0] in range(3) and x[1] in range(3)}\n",
    "        return Z\n",
    "\n",
    "v = VacuumSearch(dirt=[(0,2), (1,2), (2,2)])\n",
    "print(path_states(uniform_cost_search(v)))"
   ]
  },
  {
   "cell_type": "code",
   "execution_count": null,
   "id": "dab5c21d-7f22-4cb2-938d-6a32d3aa4b93",
   "metadata": {},
   "outputs": [],
   "source": []
  },
  {
   "cell_type": "code",
   "execution_count": null,
   "id": "5d4efa04-60c9-4f4d-a100-9bd48aeaa5af",
   "metadata": {},
   "outputs": [],
   "source": []
  }
 ],
 "metadata": {
  "kernelspec": {
   "display_name": "Python 3 (ipykernel)",
   "language": "python",
   "name": "python3"
  },
  "language_info": {
   "codemirror_mode": {
    "name": "ipython",
    "version": 3
   },
   "file_extension": ".py",
   "mimetype": "text/x-python",
   "name": "python",
   "nbconvert_exporter": "python",
   "pygments_lexer": "ipython3",
   "version": "3.11.2"
  }
 },
 "nbformat": 4,
 "nbformat_minor": 5
}
