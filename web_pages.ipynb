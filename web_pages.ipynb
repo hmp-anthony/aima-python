{
 "cells": [
  {
   "cell_type": "code",
   "execution_count": 61,
   "id": "58d85ac7-9b24-4233-bbdb-cf5186e7f064",
   "metadata": {},
   "outputs": [
    {
     "name": "stdout",
     "output_type": "stream",
     "text": [
      "['https://flatspot.com', 'https://youtube.com/channel/UCXhZ35FXbrWJ8jnql3Zootg', 'https://www.youtube.com/about/policies/', 'https://support.google.com/youtube/answer/3399767?hl=en&ref_topic=9282365']\n"
     ]
    }
   ],
   "source": [
    "import requests\n",
    "from bs4 import BeautifulSoup\n",
    "\n",
    "from search_2 import *\n",
    "\n",
    "start_url = \"https://flatspot.com\"\n",
    "end_url = \"https://support.google.com/youtube/answer/3399767?hl=en&ref_topic=9282365\"\n",
    "\n",
    "def extract_links(url):\n",
    "    links = []\n",
    "    source_url = requests.get(url)\n",
    "    soup = BeautifulSoup(source_url.content, \"html.parser\")\n",
    "    for link in soup.find_all('a',href=True):\n",
    "        if link.get('href').startswith(\"https://\") and link.get(\"href\") not in links:\n",
    "            links.append(link.get('href'))\n",
    "\n",
    "    return links\n",
    "\n",
    "class WebPageProblem(Problem):\n",
    "    def __init__(self, initial=start_url, goal=end_url, **kwds):\n",
    "        Problem.__init__(self, initial=initial, goal=goal, **kwds)\n",
    "\n",
    "    def result(self, state, action):\n",
    "        return action\n",
    "\n",
    "    def actions(self, state):\n",
    "        links = extract_links(state)\n",
    "        return links\n",
    "\n",
    "\n",
    "w = WebPageProblem(start_url, end_url)\n",
    "print(path_states(breadth_first_search(w)))"
   ]
  }
 ],
 "metadata": {
  "kernelspec": {
   "display_name": "Python 3 (ipykernel)",
   "language": "python",
   "name": "python3"
  },
  "language_info": {
   "codemirror_mode": {
    "name": "ipython",
    "version": 3
   },
   "file_extension": ".py",
   "mimetype": "text/x-python",
   "name": "python",
   "nbconvert_exporter": "python",
   "pygments_lexer": "ipython3",
   "version": "3.11.2"
  }
 },
 "nbformat": 4,
 "nbformat_minor": 5
}
